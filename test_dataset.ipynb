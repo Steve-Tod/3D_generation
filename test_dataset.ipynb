{
 "cells": [
  {
   "cell_type": "code",
   "execution_count": 1,
   "metadata": {
    "ExecuteTime": {
     "end_time": "2019-06-14T01:52:27.584470Z",
     "start_time": "2019-06-14T01:52:27.515755Z"
    }
   },
   "outputs": [],
   "source": [
    "from data.pointcloud_dataset import load_one_class_under_folder\n",
    "from \n",
    "import os.path as osp"
   ]
  },
  {
   "cell_type": "code",
   "execution_count": 2,
   "metadata": {
    "ExecuteTime": {
     "end_time": "2019-06-14T01:52:27.792672Z",
     "start_time": "2019-06-14T01:52:27.788926Z"
    }
   },
   "outputs": [],
   "source": [
    "class_name = 'chair'\n",
    "data_root = '../latent_3d_points/data/shape_net_core_uniform_samples_2048/'"
   ]
  },
  {
   "cell_type": "code",
   "execution_count": 3,
   "metadata": {
    "ExecuteTime": {
     "end_time": "2019-06-14T01:52:29.171570Z",
     "start_time": "2019-06-14T01:52:28.137906Z"
    }
   },
   "outputs": [
    {
     "name": "stdout",
     "output_type": "stream",
     "text": [
      "6778 pclouds were loaded. They belong in 1 shape-classes.\n"
     ]
    }
   ],
   "source": [
    "pc_dataset = load_one_class_under_folder(data_root, class_name, verbose=True)"
   ]
  },
  {
   "cell_type": "code",
   "execution_count": 4,
   "metadata": {
    "ExecuteTime": {
     "end_time": "2019-06-14T01:52:34.638934Z",
     "start_time": "2019-06-14T01:52:34.634634Z"
    }
   },
   "outputs": [],
   "source": [
    "tmp = pc_dataset.next_batch(2)"
   ]
  },
  {
   "cell_type": "code",
   "execution_count": 5,
   "metadata": {
    "ExecuteTime": {
     "end_time": "2019-06-14T01:52:34.960368Z",
     "start_time": "2019-06-14T01:52:34.943898Z"
    }
   },
   "outputs": [
    {
     "data": {
      "text/plain": [
       "(2, 2048, 3)"
      ]
     },
     "execution_count": 5,
     "metadata": {},
     "output_type": "execute_result"
    }
   ],
   "source": [
    "tmp[0].shape"
   ]
  },
  {
   "cell_type": "code",
   "execution_count": 12,
   "metadata": {
    "ExecuteTime": {
     "end_time": "2019-06-14T01:53:03.969978Z",
     "start_time": "2019-06-14T01:53:03.965644Z"
    }
   },
   "outputs": [
    {
     "name": "stdout",
     "output_type": "stream",
     "text": [
      "None\n"
     ]
    }
   ],
   "source": [
    "print(tmp[2])"
   ]
  }
 ],
 "metadata": {
  "kernelspec": {
   "display_name": "Python3 (tf)",
   "language": "python",
   "name": "tf"
  },
  "language_info": {
   "codemirror_mode": {
    "name": "ipython",
    "version": 3
   },
   "file_extension": ".py",
   "mimetype": "text/x-python",
   "name": "python",
   "nbconvert_exporter": "python",
   "pygments_lexer": "ipython3",
   "version": "3.7.0"
  }
 },
 "nbformat": 4,
 "nbformat_minor": 2
}
