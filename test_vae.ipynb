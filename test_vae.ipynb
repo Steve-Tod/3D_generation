{
 "cells": [
  {
   "cell_type": "code",
   "execution_count": 1,
   "metadata": {
    "ExecuteTime": {
     "end_time": "2019-06-15T03:43:14.835578Z",
     "start_time": "2019-06-15T03:43:13.022507Z"
    }
   },
   "outputs": [
    {
     "name": "stdout",
     "output_type": "stream",
     "text": [
      "WARNING:tensorflow:From /home/data/private/disk5/stevetod/anaconda3/envs/tf_py3/lib/python3.6/site-packages/tensorflow/python/framework/op_def_library.py:263: colocate_with (from tensorflow.python.framework.ops) is deprecated and will be removed in a future version.\n",
      "Instructions for updating:\n",
      "Colocations handled automatically by placer.\n"
     ]
    }
   ],
   "source": [
    "import sys\n",
    "import os\n",
    "os.environ['CUDA_VISIBLE_DEVICES'] = '1'\n",
    "import os.path as osp\n",
    "sys.path.append(os.path.abspath('./'))\n",
    "from data.pointcloud_dataset import load_one_class_under_folder\n",
    "from trainers.point_net_vae import PointNetVariationalAutoEncoder\n",
    "from trainers.autoencoder import default_train_params, Configuration\n",
    "from models.vae_models import mlp_architecture_ala_iclr_18\n",
    "from utils.dirs import create_dir\n",
    "from utils.tf import reset_tf_graph\n",
    "from utils.utils import plot_3d_point_cloud"
   ]
  },
  {
   "cell_type": "code",
   "execution_count": 2,
   "metadata": {
    "ExecuteTime": {
     "end_time": "2019-06-15T03:43:14.874655Z",
     "start_time": "2019-06-15T03:43:14.838687Z"
    }
   },
   "outputs": [],
   "source": [
    "%load_ext autoreload\n",
    "%autoreload 2"
   ]
  },
  {
   "cell_type": "code",
   "execution_count": 3,
   "metadata": {
    "ExecuteTime": {
     "end_time": "2019-06-15T03:43:15.021871Z",
     "start_time": "2019-06-15T03:43:14.876284Z"
    }
   },
   "outputs": [],
   "source": [
    "class_name = 'chair'\n",
    "data_root = '../latent_3d_points/data/shape_net_core_uniform_samples_2048/'\n",
    "train_root = './experiments'\n",
    "experiment_name = 'single_class_vae_test_summary'\n",
    "n_pc_points = 2048                # Number of points per model.\n",
    "bneck_size = 128                  # Bottleneck-AE size\n",
    "ae_loss = 'chamfer'                   # Loss to optimize: 'emd' or 'chamfer'"
   ]
  },
  {
   "cell_type": "code",
   "execution_count": 4,
   "metadata": {
    "ExecuteTime": {
     "end_time": "2019-06-15T03:43:16.232562Z",
     "start_time": "2019-06-15T03:43:15.024218Z"
    }
   },
   "outputs": [
    {
     "name": "stdout",
     "output_type": "stream",
     "text": [
      "6778 pclouds were loaded. They belong in 1 shape-classes.\n"
     ]
    }
   ],
   "source": [
    "pc_dataset = load_one_class_under_folder(data_root, class_name, verbose=True)"
   ]
  },
  {
   "cell_type": "code",
   "execution_count": 5,
   "metadata": {
    "ExecuteTime": {
     "end_time": "2019-06-15T03:43:16.267097Z",
     "start_time": "2019-06-15T03:43:16.234896Z"
    }
   },
   "outputs": [],
   "source": [
    "train_params = default_train_params()\n",
    "train_params['batch_size'] = 400"
   ]
  },
  {
   "cell_type": "code",
   "execution_count": 6,
   "metadata": {
    "ExecuteTime": {
     "end_time": "2019-06-15T03:43:16.367401Z",
     "start_time": "2019-06-15T03:43:16.270569Z"
    }
   },
   "outputs": [
    {
     "name": "stdout",
     "output_type": "stream",
     "text": [
      "{'batch_size': 400, 'training_epochs': 500, 'denoising': False, 'learning_rate': 0.0005, 'z_rotate': False, 'saver_step': 10, 'loss_display_step': 1}\n"
     ]
    }
   ],
   "source": [
    "print(train_params)"
   ]
  },
  {
   "cell_type": "code",
   "execution_count": 7,
   "metadata": {
    "ExecuteTime": {
     "end_time": "2019-06-15T03:43:16.493929Z",
     "start_time": "2019-06-15T03:43:16.370528Z"
    }
   },
   "outputs": [
    {
     "data": {
      "text/plain": [
       "0"
      ]
     },
     "execution_count": 7,
     "metadata": {},
     "output_type": "execute_result"
    }
   ],
   "source": [
    "encoder, decoder, enc_args, dec_args = mlp_architecture_ala_iclr_18(n_pc_points, bneck_size)\n",
    "train_dir = osp.join(train_root, experiment_name)\n",
    "create_dir(osp.join(train_root, experiment_name))"
   ]
  },
  {
   "cell_type": "code",
   "execution_count": 8,
   "metadata": {
    "ExecuteTime": {
     "end_time": "2019-06-15T03:43:16.590855Z",
     "start_time": "2019-06-15T03:43:16.496484Z"
    }
   },
   "outputs": [],
   "source": [
    "conf = Configuration(n_input = [n_pc_points, 3],\n",
    "            loss = ae_loss,\n",
    "            training_epochs = train_params['training_epochs'],\n",
    "            batch_size = train_params['batch_size'],\n",
    "            denoising = train_params['denoising'],\n",
    "            learning_rate = train_params['learning_rate'],\n",
    "            train_dir = train_dir,\n",
    "            loss_display_step = train_params['loss_display_step'],\n",
    "            saver_step = train_params['saver_step'],\n",
    "            z_rotate = train_params['z_rotate'],\n",
    "            encoder = encoder,\n",
    "            decoder = decoder,\n",
    "            encoder_args = enc_args,\n",
    "            decoder_args = dec_args\n",
    "           )\n",
    "conf.experiment_name = experiment_name\n",
    "conf.held_out_step = 5   # How often to evaluate/print out loss on \n",
    "                         # held_out data (if they are provided in ae.train() ).\n",
    "conf.save(osp.join(train_dir, 'configuration'))"
   ]
  },
  {
   "cell_type": "code",
   "execution_count": 9,
   "metadata": {
    "ExecuteTime": {
     "end_time": "2019-06-15T03:43:16.677666Z",
     "start_time": "2019-06-15T03:43:16.593989Z"
    }
   },
   "outputs": [],
   "source": [
    "load_pre_trained_ae = False\n",
    "restore_epoch = 500\n",
    "if load_pre_trained_ae:\n",
    "    conf = Configuration.load(train_dir + '/configuration')\n",
    "    reset_tf_graph()\n",
    "    vae = PointNetVariationalAutoEncoder(conf.experiment_name, conf)\n",
    "    vae.restore_model(conf.train_dir, epoch=restore_epoch)"
   ]
  },
  {
   "cell_type": "code",
   "execution_count": 10,
   "metadata": {
    "ExecuteTime": {
     "end_time": "2019-06-15T03:43:16.779875Z",
     "start_time": "2019-06-15T03:43:16.679722Z"
    }
   },
   "outputs": [
    {
     "name": "stdout",
     "output_type": "stream",
     "text": [
      "                    batch_size: 400\n",
      "                 consistent_io: None\n",
      "                         debug: False\n",
      "                       decoder: decoder_with_fc_only\n",
      "                  decoder_args: {'layer_sizes': [256, 256, 6144], 'b_norm': False, 'b_norm_finish': False, 'verbose': True}\n",
      "                       encoder: variational_encoder_with_convs_and_symmetry\n",
      "                  encoder_args: {'n_filters': [64, 128, 128, 256, 128], 'filter_sizes': [1], 'strides': [1], 'b_norm': True, 'verbose': True}\n",
      "               experiment_name: single_class_vae_test_summary\n",
      "                 gauss_augment: None\n",
      "                 held_out_step: 5\n",
      "                  is_denoising: False\n",
      "               latent_vs_recon: 0.01\n",
      "                 learning_rate: 0.0005\n",
      "                          loss: chamfer\n",
      "             loss_display_step: 1\n",
      "             loss_summary_step: 10\n",
      "                       n_input: [2048, 3]\n",
      "                      n_output: [2048, 3]\n",
      "                           n_z: None\n",
      "             saver_max_to_keep: None\n",
      "                    saver_step: 10\n",
      "                     train_dir: ./experiments/single_class_vae_test_summary\n",
      "               training_epochs: 500\n",
      "                      z_rotate: False\n",
      "\n"
     ]
    }
   ],
   "source": [
    "print(conf)"
   ]
  },
  {
   "cell_type": "code",
   "execution_count": 11,
   "metadata": {
    "ExecuteTime": {
     "end_time": "2019-06-15T03:43:20.243906Z",
     "start_time": "2019-06-15T03:43:16.782565Z"
    }
   },
   "outputs": [
    {
     "name": "stdout",
     "output_type": "stream",
     "text": [
      "Building Encoder\n",
      "WARNING:tensorflow:From /home/data/private/disk5/stevetod/anaconda3/envs/tf_py3/lib/python3.6/site-packages/tflearn/initializations.py:119: UniformUnitScaling.__init__ (from tensorflow.python.ops.init_ops) is deprecated and will be removed in a future version.\n",
      "Instructions for updating:\n",
      "Use tf.initializers.variance_scaling instead with distribution=uniform to get equivalent behavior.\n",
      "encoder_conv_layer_0 conv params =  256 bnorm params =  128\n",
      "Tensor(\"single_class_vae_test_summary_2/Relu:0\", shape=(?, 2048, 64), dtype=float32)\n",
      "output size: 131072 \n",
      "\n",
      "encoder_conv_layer_1 conv params =  8320 bnorm params =  256\n",
      "Tensor(\"single_class_vae_test_summary_2/Relu_1:0\", shape=(?, 2048, 128), dtype=float32)\n",
      "output size: 262144 \n",
      "\n",
      "encoder_conv_layer_2 conv params =  16512 bnorm params =  256\n",
      "Tensor(\"single_class_vae_test_summary_2/Relu_2:0\", shape=(?, 2048, 128), dtype=float32)\n",
      "output size: 262144 \n",
      "\n",
      "encoder_conv_layer_3 conv params =  33024 bnorm params =  512\n",
      "Tensor(\"single_class_vae_test_summary_2/Relu_3:0\", shape=(?, 2048, 256), dtype=float32)\n",
      "output size: 524288 \n",
      "\n",
      "encoder_conv_layer_4 conv params =  32896 bnorm params =  256\n",
      "Tensor(\"single_class_vae_test_summary_2/Relu_4:0\", shape=(?, 2048, 128), dtype=float32)\n",
      "output size: 262144 \n",
      "\n",
      "encoder_conv_layer_4 conv params =  32896 bnorm params =  256\n",
      "Tensor(\"single_class_vae_test_summary_2/Relu_5:0\", shape=(?, 2048, 128), dtype=float32)\n",
      "output size: 262144 \n",
      "\n",
      "Tensor(\"single_class_vae_test_summary_2/z_mean:0\", shape=(?, 128), dtype=float32)\n",
      "Tensor(\"single_class_vae_test_summary_2/z_std:0\", shape=(?, 128), dtype=float32)\n",
      "Building Decoder\n",
      "decoder_fc_0 FC params =  33024 Tensor(\"single_class_vae_test_summary_2/Relu_6:0\", shape=(?, 256), dtype=float32)\n",
      "output size: 256 \n",
      "\n",
      "decoder_fc_1 FC params =  65792 Tensor(\"single_class_vae_test_summary_2/Relu_7:0\", shape=(?, 256), dtype=float32)\n",
      "output size: 256 \n",
      "\n",
      "decoder_fc_2 FC params =  1579008 Tensor(\"single_class_vae_test_summary_2/decoder_fc_2/BiasAdd:0\", shape=(?, 6144), dtype=float32)\n",
      "output size: 6144 \n",
      "\n",
      "WARNING:tensorflow:From /home/data/private/disk5/stevetod/anaconda3/envs/tf_py3/lib/python3.6/site-packages/tensorflow/python/ops/math_ops.py:3066: to_int32 (from tensorflow.python.ops.math_ops) is deprecated and will be removed in a future version.\n",
      "Instructions for updating:\n",
      "Use tf.cast instead.\n",
      "WARNING:tensorflow:From /home/data/private/disk5/stevetod/anaconda3/envs/tf_py3/lib/python3.6/site-packages/tensorflow/python/ops/math_grad.py:102: div (from tensorflow.python.ops.math_ops) is deprecated and will be removed in a future version.\n",
      "Instructions for updating:\n",
      "Deprecated in favor of operator or tf.math.divide.\n",
      "allow growth\n"
     ]
    }
   ],
   "source": [
    "reset_tf_graph()\n",
    "vae = PointNetVariationalAutoEncoder(conf.experiment_name, conf)"
   ]
  },
  {
   "cell_type": "code",
   "execution_count": 12,
   "metadata": {
    "ExecuteTime": {
     "end_time": "2019-06-15T04:56:48.698500Z",
     "start_time": "2019-06-15T03:43:20.247473Z"
    }
   },
   "outputs": [
    {
     "name": "stdout",
     "output_type": "stream",
     "text": [
      "Epoch: 0001 training time (minutes)= 0.1916 loss= 7.837500811\n",
      "INFO:tensorflow:./experiments/single_class_vae_test_summary/models.ckpt-1 is not in all_model_checkpoint_paths. Manually adding it.\n",
      "Epoch: 0002 training time (minutes)= 0.1466 loss= 3.091371328\n",
      "Epoch: 0003 training time (minutes)= 0.1467 loss= 1.978114963\n",
      "Epoch: 0004 training time (minutes)= 0.1475 loss= 1.454774797\n",
      "Epoch: 0005 training time (minutes)= 0.1485 loss= 1.151487745\n",
      "Epoch: 0006 training time (minutes)= 0.1479 loss= 0.953286793\n",
      "Epoch: 0007 training time (minutes)= 0.1477 loss= 0.811655033\n",
      "Epoch: 0008 training time (minutes)= 0.1482 loss= 0.705809403\n",
      "Epoch: 0009 training time (minutes)= 0.1496 loss= 0.622832164\n",
      "Epoch: 0010 training time (minutes)= 0.1475 loss= 0.556542229\n",
      "INFO:tensorflow:./experiments/single_class_vae_test_summary/models.ckpt-10 is not in all_model_checkpoint_paths. Manually adding it.\n",
      "Epoch: 0011 training time (minutes)= 0.1470 loss= 0.502346892\n",
      "Epoch: 0012 training time (minutes)= 0.1474 loss= 0.456364544\n",
      "Epoch: 0013 training time (minutes)= 0.1465 loss= 0.418020727\n",
      "Epoch: 0014 training time (minutes)= 0.1460 loss= 0.384038579\n",
      "Epoch: 0015 training time (minutes)= 0.1471 loss= 0.354631765\n",
      "Epoch: 0016 training time (minutes)= 0.1462 loss= 0.329703527\n",
      "Epoch: 0017 training time (minutes)= 0.1461 loss= 0.306353066\n",
      "Epoch: 0018 training time (minutes)= 0.1463 loss= 0.285711015\n",
      "Epoch: 0019 training time (minutes)= 0.1457 loss= 0.267606938\n",
      "Epoch: 0020 training time (minutes)= 0.1465 loss= 0.251276424\n",
      "INFO:tensorflow:./experiments/single_class_vae_test_summary/models.ckpt-20 is not in all_model_checkpoint_paths. Manually adding it.\n",
      "Epoch: 0021 training time (minutes)= 0.1476 loss= 0.236040549\n",
      "Epoch: 0022 training time (minutes)= 0.1465 loss= 0.222097676\n",
      "Epoch: 0023 training time (minutes)= 0.1462 loss= 0.209660576\n",
      "Epoch: 0024 training time (minutes)= 0.1457 loss= 0.198169697\n",
      "Epoch: 0025 training time (minutes)= 0.1474 loss= 0.187499585\n",
      "Epoch: 0026 training time (minutes)= 0.1469 loss= 0.177661458\n",
      "Epoch: 0027 training time (minutes)= 0.1458 loss= 0.168424533\n",
      "Epoch: 0028 training time (minutes)= 0.1459 loss= 0.159692759\n",
      "Epoch: 0029 training time (minutes)= 0.1465 loss= 0.151783944\n",
      "Epoch: 0030 training time (minutes)= 0.1469 loss= 0.144140172\n",
      "INFO:tensorflow:./experiments/single_class_vae_test_summary/models.ckpt-30 is not in all_model_checkpoint_paths. Manually adding it.\n",
      "Epoch: 0031 training time (minutes)= 0.1479 loss= 0.137279689\n",
      "Epoch: 0032 training time (minutes)= 0.1471 loss= 0.130704365\n",
      "Epoch: 0033 training time (minutes)= 0.1475 loss= 0.124686384\n",
      "Epoch: 0034 training time (minutes)= 0.1469 loss= 0.119143721\n",
      "Epoch: 0035 training time (minutes)= 0.1471 loss= 0.113661379\n",
      "Epoch: 0036 training time (minutes)= 0.1469 loss= 0.108390825\n",
      "Epoch: 0037 training time (minutes)= 0.1458 loss= 0.103732280\n",
      "Epoch: 0038 training time (minutes)= 0.1462 loss= 0.099147583\n",
      "Epoch: 0039 training time (minutes)= 0.1472 loss= 0.094637196\n",
      "Epoch: 0040 training time (minutes)= 0.1470 loss= 0.090693678\n",
      "INFO:tensorflow:./experiments/single_class_vae_test_summary/models.ckpt-40 is not in all_model_checkpoint_paths. Manually adding it.\n",
      "Epoch: 0041 training time (minutes)= 0.1462 loss= 0.086822988\n",
      "Epoch: 0042 training time (minutes)= 0.1469 loss= 0.083126449\n",
      "Epoch: 0043 training time (minutes)= 0.1470 loss= 0.079786293\n",
      "Epoch: 0044 training time (minutes)= 0.1471 loss= 0.076323615\n",
      "Epoch: 0045 training time (minutes)= 0.1466 loss= 0.073311739\n",
      "Epoch: 0046 training time (minutes)= 0.1472 loss= 0.070404375\n",
      "Epoch: 0047 training time (minutes)= 0.1481 loss= 0.067678257\n",
      "Epoch: 0048 training time (minutes)= 0.1465 loss= 0.064991764\n",
      "Epoch: 0049 training time (minutes)= 0.1460 loss= 0.062319839\n",
      "Epoch: 0050 training time (minutes)= 0.1467 loss= 0.059855451\n",
      "INFO:tensorflow:./experiments/single_class_vae_test_summary/models.ckpt-50 is not in all_model_checkpoint_paths. Manually adding it.\n",
      "Epoch: 0051 training time (minutes)= 0.1458 loss= 0.057672868\n",
      "Epoch: 0052 training time (minutes)= 0.1468 loss= 0.055402887\n",
      "Epoch: 0053 training time (minutes)= 0.1467 loss= 0.053318333\n",
      "Epoch: 0054 training time (minutes)= 0.1466 loss= 0.051312425\n",
      "Epoch: 0055 training time (minutes)= 0.1464 loss= 0.049474316\n",
      "Epoch: 0056 training time (minutes)= 0.1471 loss= 0.047546929\n",
      "Epoch: 0057 training time (minutes)= 0.1463 loss= 0.045821222\n",
      "Epoch: 0058 training time (minutes)= 0.1462 loss= 0.044113037\n",
      "Epoch: 0059 training time (minutes)= 0.1469 loss= 0.042605306\n",
      "Epoch: 0060 training time (minutes)= 0.1465 loss= 0.041090579\n",
      "INFO:tensorflow:./experiments/single_class_vae_test_summary/models.ckpt-60 is not in all_model_checkpoint_paths. Manually adding it.\n",
      "Epoch: 0061 training time (minutes)= 0.1463 loss= 0.039631466\n",
      "Epoch: 0062 training time (minutes)= 0.1464 loss= 0.038131532\n",
      "Epoch: 0063 training time (minutes)= 0.1463 loss= 0.036921018\n",
      "Epoch: 0064 training time (minutes)= 0.1462 loss= 0.035645968\n",
      "Epoch: 0065 training time (minutes)= 0.1463 loss= 0.034369327\n",
      "Epoch: 0066 training time (minutes)= 0.1472 loss= 0.033218745\n",
      "Epoch: 0067 training time (minutes)= 0.1481 loss= 0.032045223\n",
      "Epoch: 0068 training time (minutes)= 0.1467 loss= 0.030908859\n",
      "Epoch: 0069 training time (minutes)= 0.1467 loss= 0.029947860\n",
      "Epoch: 0070 training time (minutes)= 0.1458 loss= 0.028926015\n",
      "INFO:tensorflow:./experiments/single_class_vae_test_summary/models.ckpt-70 is not in all_model_checkpoint_paths. Manually adding it.\n",
      "Epoch: 0071 training time (minutes)= 0.1460 loss= 0.028098349\n",
      "Epoch: 0072 training time (minutes)= 0.1463 loss= 0.027109528\n",
      "Epoch: 0073 training time (minutes)= 0.1476 loss= 0.026242042\n",
      "Epoch: 0074 training time (minutes)= 0.1458 loss= 0.025350900\n",
      "Epoch: 0075 training time (minutes)= 0.1467 loss= 0.024537199\n",
      "Epoch: 0076 training time (minutes)= 0.1468 loss= 0.023899287\n",
      "Epoch: 0077 training time (minutes)= 0.1468 loss= 0.023097636\n",
      "Epoch: 0078 training time (minutes)= 0.1466 loss= 0.022389184\n",
      "Epoch: 0079 training time (minutes)= 0.1462 loss= 0.021750108\n",
      "Epoch: 0080 training time (minutes)= 0.1461 loss= 0.021109854\n",
      "INFO:tensorflow:./experiments/single_class_vae_test_summary/models.ckpt-80 is not in all_model_checkpoint_paths. Manually adding it.\n",
      "Epoch: 0081 training time (minutes)= 0.1466 loss= 0.020385054\n",
      "Epoch: 0082 training time (minutes)= 0.1462 loss= 0.019824850\n",
      "Epoch: 0083 training time (minutes)= 0.1464 loss= 0.019226025\n",
      "Epoch: 0084 training time (minutes)= 0.1475 loss= 0.018719878\n",
      "Epoch: 0085 training time (minutes)= 0.1464 loss= 0.018213859\n",
      "Epoch: 0086 training time (minutes)= 0.1466 loss= 0.017654024\n",
      "Epoch: 0087 training time (minutes)= 0.1472 loss= 0.017205323\n",
      "Epoch: 0088 training time (minutes)= 0.1468 loss= 0.016737666\n",
      "Epoch: 0089 training time (minutes)= 0.1459 loss= 0.016231033\n",
      "Epoch: 0090 training time (minutes)= 0.1468 loss= 0.015750424\n",
      "INFO:tensorflow:./experiments/single_class_vae_test_summary/models.ckpt-90 is not in all_model_checkpoint_paths. Manually adding it.\n",
      "Epoch: 0091 training time (minutes)= 0.1466 loss= 0.015345540\n",
      "Epoch: 0092 training time (minutes)= 0.1475 loss= 0.015018355\n",
      "Epoch: 0093 training time (minutes)= 0.1464 loss= 0.014541283\n",
      "Epoch: 0094 training time (minutes)= 0.1466 loss= 0.014180468\n",
      "Epoch: 0095 training time (minutes)= 0.1466 loss= 0.013923568\n",
      "Epoch: 0096 training time (minutes)= 0.1462 loss= 0.013516890\n",
      "Epoch: 0097 training time (minutes)= 0.1471 loss= 0.013152969\n",
      "Epoch: 0098 training time (minutes)= 0.1468 loss= 0.012820316\n",
      "Epoch: 0099 training time (minutes)= 0.1464 loss= 0.012548381\n",
      "Epoch: 0100 training time (minutes)= 0.1463 loss= 0.012246312\n",
      "INFO:tensorflow:./experiments/single_class_vae_test_summary/models.ckpt-100 is not in all_model_checkpoint_paths. Manually adding it.\n",
      "Epoch: 0101 training time (minutes)= 0.1462 loss= 0.011970727\n",
      "Epoch: 0102 training time (minutes)= 0.1461 loss= 0.011730791\n",
      "Epoch: 0103 training time (minutes)= 0.1469 loss= 0.011426881\n",
      "Epoch: 0104 training time (minutes)= 0.1459 loss= 0.011157245\n",
      "Epoch: 0105 training time (minutes)= 0.1471 loss= 0.010903923\n",
      "Epoch: 0106 training time (minutes)= 0.1472 loss= 0.010678241\n",
      "Epoch: 0107 training time (minutes)= 0.1464 loss= 0.010419530\n",
      "Epoch: 0108 training time (minutes)= 0.1473 loss= 0.010218151\n",
      "Epoch: 0109 training time (minutes)= 0.1465 loss= 0.009985776\n"
     ]
    },
    {
     "name": "stdout",
     "output_type": "stream",
     "text": [
      "Epoch: 0110 training time (minutes)= 0.1461 loss= 0.009792217\n",
      "INFO:tensorflow:./experiments/single_class_vae_test_summary/models.ckpt-110 is not in all_model_checkpoint_paths. Manually adding it.\n",
      "Epoch: 0111 training time (minutes)= 0.1461 loss= 0.009612761\n",
      "Epoch: 0112 training time (minutes)= 0.1472 loss= 0.009417799\n",
      "Epoch: 0113 training time (minutes)= 0.1473 loss= 0.009236273\n",
      "Epoch: 0114 training time (minutes)= 0.1461 loss= 0.008990355\n",
      "Epoch: 0115 training time (minutes)= 0.1465 loss= 0.008852126\n",
      "Epoch: 0116 training time (minutes)= 0.1472 loss= 0.008716113\n",
      "Epoch: 0117 training time (minutes)= 0.1460 loss= 0.008525032\n",
      "Epoch: 0118 training time (minutes)= 0.1474 loss= 0.008356743\n",
      "Epoch: 0119 training time (minutes)= 0.1472 loss= 0.008235940\n",
      "Epoch: 0120 training time (minutes)= 0.1468 loss= 0.008102264\n",
      "INFO:tensorflow:./experiments/single_class_vae_test_summary/models.ckpt-120 is not in all_model_checkpoint_paths. Manually adding it.\n",
      "Epoch: 0121 training time (minutes)= 0.1466 loss= 0.007933908\n",
      "Epoch: 0122 training time (minutes)= 0.1473 loss= 0.007831429\n",
      "Epoch: 0123 training time (minutes)= 0.1464 loss= 0.007676242\n",
      "Epoch: 0124 training time (minutes)= 0.1470 loss= 0.007565150\n",
      "Epoch: 0125 training time (minutes)= 0.1470 loss= 0.007429210\n",
      "Epoch: 0126 training time (minutes)= 0.1464 loss= 0.007321970\n",
      "Epoch: 0127 training time (minutes)= 0.1473 loss= 0.007201968\n",
      "Epoch: 0128 training time (minutes)= 0.1467 loss= 0.007077915\n",
      "Epoch: 0129 training time (minutes)= 0.1470 loss= 0.006994552\n",
      "Epoch: 0130 training time (minutes)= 0.1466 loss= 0.006869202\n",
      "INFO:tensorflow:./experiments/single_class_vae_test_summary/models.ckpt-130 is not in all_model_checkpoint_paths. Manually adding it.\n",
      "Epoch: 0131 training time (minutes)= 0.1470 loss= 0.006771422\n",
      "Epoch: 0132 training time (minutes)= 0.1465 loss= 0.006667140\n",
      "Epoch: 0133 training time (minutes)= 0.1464 loss= 0.006568208\n",
      "Epoch: 0134 training time (minutes)= 0.1461 loss= 0.006489064\n",
      "Epoch: 0135 training time (minutes)= 0.1466 loss= 0.006403381\n",
      "Epoch: 0136 training time (minutes)= 0.1459 loss= 0.006294968\n",
      "Epoch: 0137 training time (minutes)= 0.1473 loss= 0.006233890\n",
      "Epoch: 0138 training time (minutes)= 0.1463 loss= 0.006158544\n",
      "Epoch: 0139 training time (minutes)= 0.1463 loss= 0.006089666\n",
      "Epoch: 0140 training time (minutes)= 0.1464 loss= 0.005984512\n",
      "INFO:tensorflow:./experiments/single_class_vae_test_summary/models.ckpt-140 is not in all_model_checkpoint_paths. Manually adding it.\n",
      "Epoch: 0141 training time (minutes)= 0.1460 loss= 0.005923578\n",
      "Epoch: 0142 training time (minutes)= 0.1463 loss= 0.005831108\n",
      "Epoch: 0143 training time (minutes)= 0.1471 loss= 0.005770894\n",
      "Epoch: 0144 training time (minutes)= 0.1470 loss= 0.005723990\n",
      "Epoch: 0145 training time (minutes)= 0.1474 loss= 0.005628113\n",
      "Epoch: 0146 training time (minutes)= 0.1465 loss= 0.005577227\n",
      "Epoch: 0147 training time (minutes)= 0.1473 loss= 0.005521369\n",
      "Epoch: 0148 training time (minutes)= 0.1462 loss= 0.005481763\n",
      "Epoch: 0149 training time (minutes)= 0.1471 loss= 0.005400929\n",
      "Epoch: 0150 training time (minutes)= 0.1467 loss= 0.005339321\n",
      "INFO:tensorflow:./experiments/single_class_vae_test_summary/models.ckpt-150 is not in all_model_checkpoint_paths. Manually adding it.\n",
      "Epoch: 0151 training time (minutes)= 0.1473 loss= 0.005276675\n",
      "Epoch: 0152 training time (minutes)= 0.1469 loss= 0.005230660\n",
      "Epoch: 0153 training time (minutes)= 0.1464 loss= 0.005191979\n",
      "Epoch: 0154 training time (minutes)= 0.1473 loss= 0.005145462\n",
      "Epoch: 0155 training time (minutes)= 0.1472 loss= 0.005094258\n",
      "Epoch: 0156 training time (minutes)= 0.1466 loss= 0.005053094\n",
      "Epoch: 0157 training time (minutes)= 0.1467 loss= 0.005008805\n",
      "Epoch: 0158 training time (minutes)= 0.1460 loss= 0.004958791\n",
      "Epoch: 0159 training time (minutes)= 0.1460 loss= 0.004913539\n",
      "Epoch: 0160 training time (minutes)= 0.1458 loss= 0.004873741\n",
      "INFO:tensorflow:./experiments/single_class_vae_test_summary/models.ckpt-160 is not in all_model_checkpoint_paths. Manually adding it.\n",
      "Epoch: 0161 training time (minutes)= 0.1470 loss= 0.004805234\n",
      "Epoch: 0162 training time (minutes)= 0.1468 loss= 0.004787022\n",
      "Epoch: 0163 training time (minutes)= 0.1462 loss= 0.004754590\n",
      "Epoch: 0164 training time (minutes)= 0.1462 loss= 0.004706611\n",
      "Epoch: 0165 training time (minutes)= 0.1459 loss= 0.004691431\n",
      "Epoch: 0166 training time (minutes)= 0.1458 loss= 0.004637055\n",
      "Epoch: 0167 training time (minutes)= 0.1472 loss= 0.004596497\n",
      "Epoch: 0168 training time (minutes)= 0.1467 loss= 0.004586726\n",
      "Epoch: 0169 training time (minutes)= 0.1467 loss= 0.004539930\n",
      "Epoch: 0170 training time (minutes)= 0.1466 loss= 0.004529455\n",
      "INFO:tensorflow:./experiments/single_class_vae_test_summary/models.ckpt-170 is not in all_model_checkpoint_paths. Manually adding it.\n",
      "Epoch: 0171 training time (minutes)= 0.1463 loss= 0.004500317\n",
      "Epoch: 0172 training time (minutes)= 0.1462 loss= 0.004443831\n",
      "Epoch: 0173 training time (minutes)= 0.1470 loss= 0.004429862\n",
      "Epoch: 0174 training time (minutes)= 0.1471 loss= 0.004413880\n",
      "Epoch: 0175 training time (minutes)= 0.1464 loss= 0.004382352\n",
      "Epoch: 0176 training time (minutes)= 0.1458 loss= 0.004334821\n",
      "Epoch: 0177 training time (minutes)= 0.1462 loss= 0.004334314\n",
      "Epoch: 0178 training time (minutes)= 0.1464 loss= 0.004317049\n",
      "Epoch: 0179 training time (minutes)= 0.1472 loss= 0.004295558\n",
      "Epoch: 0180 training time (minutes)= 0.1469 loss= 0.004258645\n",
      "INFO:tensorflow:./experiments/single_class_vae_test_summary/models.ckpt-180 is not in all_model_checkpoint_paths. Manually adding it.\n",
      "Epoch: 0181 training time (minutes)= 0.1467 loss= 0.004223200\n",
      "Epoch: 0182 training time (minutes)= 0.1466 loss= 0.004224945\n",
      "Epoch: 0183 training time (minutes)= 0.1465 loss= 0.004223525\n",
      "Epoch: 0184 training time (minutes)= 0.1464 loss= 0.004176208\n",
      "Epoch: 0185 training time (minutes)= 0.1464 loss= 0.004172104\n",
      "Epoch: 0186 training time (minutes)= 0.1470 loss= 0.004142601\n",
      "Epoch: 0187 training time (minutes)= 0.1470 loss= 0.004118778\n",
      "Epoch: 0188 training time (minutes)= 0.1464 loss= 0.004105762\n",
      "Epoch: 0189 training time (minutes)= 0.1467 loss= 0.004093159\n",
      "Epoch: 0190 training time (minutes)= 0.1465 loss= 0.004061206\n",
      "INFO:tensorflow:./experiments/single_class_vae_test_summary/models.ckpt-190 is not in all_model_checkpoint_paths. Manually adding it.\n",
      "Epoch: 0191 training time (minutes)= 0.1463 loss= 0.004058017\n",
      "Epoch: 0192 training time (minutes)= 0.1459 loss= 0.004041810\n",
      "Epoch: 0193 training time (minutes)= 0.1470 loss= 0.004027949\n",
      "Epoch: 0194 training time (minutes)= 0.1467 loss= 0.004000881\n",
      "Epoch: 0195 training time (minutes)= 0.1462 loss= 0.003999915\n",
      "Epoch: 0196 training time (minutes)= 0.1468 loss= 0.003991929\n",
      "Epoch: 0197 training time (minutes)= 0.1466 loss= 0.003987141\n",
      "Epoch: 0198 training time (minutes)= 0.1475 loss= 0.003968389\n",
      "Epoch: 0199 training time (minutes)= 0.1469 loss= 0.003956061\n",
      "Epoch: 0200 training time (minutes)= 0.1464 loss= 0.003950483\n",
      "INFO:tensorflow:./experiments/single_class_vae_test_summary/models.ckpt-200 is not in all_model_checkpoint_paths. Manually adding it.\n",
      "Epoch: 0201 training time (minutes)= 0.1468 loss= 0.003939843\n",
      "Epoch: 0202 training time (minutes)= 0.1469 loss= 0.003916628\n",
      "Epoch: 0203 training time (minutes)= 0.1466 loss= 0.003914779\n",
      "Epoch: 0204 training time (minutes)= 0.1483 loss= 0.003903606\n",
      "Epoch: 0205 training time (minutes)= 0.1467 loss= 0.003894907\n",
      "Epoch: 0206 training time (minutes)= 0.1461 loss= 0.003881575\n",
      "Epoch: 0207 training time (minutes)= 0.1478 loss= 0.003853695\n",
      "Epoch: 0208 training time (minutes)= 0.1465 loss= 0.003859045\n",
      "Epoch: 0209 training time (minutes)= 0.1476 loss= 0.003868944\n",
      "Epoch: 0210 training time (minutes)= 0.1464 loss= 0.003855623\n",
      "INFO:tensorflow:./experiments/single_class_vae_test_summary/models.ckpt-210 is not in all_model_checkpoint_paths. Manually adding it.\n",
      "Epoch: 0211 training time (minutes)= 0.1464 loss= 0.003824550\n",
      "Epoch: 0212 training time (minutes)= 0.1465 loss= 0.003848825\n",
      "Epoch: 0213 training time (minutes)= 0.1467 loss= 0.003828384\n",
      "Epoch: 0214 training time (minutes)= 0.1466 loss= 0.003805837\n",
      "Epoch: 0215 training time (minutes)= 0.1462 loss= 0.003782013\n",
      "Epoch: 0216 training time (minutes)= 0.1464 loss= 0.003812115\n",
      "Epoch: 0217 training time (minutes)= 0.1476 loss= 0.003807224\n",
      "Epoch: 0218 training time (minutes)= 0.1473 loss= 0.003781312\n"
     ]
    },
    {
     "name": "stdout",
     "output_type": "stream",
     "text": [
      "Epoch: 0219 training time (minutes)= 0.1471 loss= 0.003781892\n",
      "Epoch: 0220 training time (minutes)= 0.1462 loss= 0.003793763\n",
      "INFO:tensorflow:./experiments/single_class_vae_test_summary/models.ckpt-220 is not in all_model_checkpoint_paths. Manually adding it.\n",
      "Epoch: 0221 training time (minutes)= 0.1472 loss= 0.003785137\n",
      "Epoch: 0222 training time (minutes)= 0.1464 loss= 0.003766306\n",
      "Epoch: 0223 training time (minutes)= 0.1467 loss= 0.003766520\n",
      "Epoch: 0224 training time (minutes)= 0.1465 loss= 0.003746874\n",
      "Epoch: 0225 training time (minutes)= 0.1462 loss= 0.003755748\n",
      "Epoch: 0226 training time (minutes)= 0.1461 loss= 0.003742191\n",
      "Epoch: 0227 training time (minutes)= 0.1462 loss= 0.003754515\n",
      "Epoch: 0228 training time (minutes)= 0.1467 loss= 0.003742621\n",
      "Epoch: 0229 training time (minutes)= 0.1461 loss= 0.003734220\n",
      "Epoch: 0230 training time (minutes)= 0.1468 loss= 0.003726120\n",
      "INFO:tensorflow:./experiments/single_class_vae_test_summary/models.ckpt-230 is not in all_model_checkpoint_paths. Manually adding it.\n",
      "Epoch: 0231 training time (minutes)= 0.1467 loss= 0.003737113\n",
      "Epoch: 0232 training time (minutes)= 0.1467 loss= 0.003730791\n",
      "Epoch: 0233 training time (minutes)= 0.1468 loss= 0.003721167\n",
      "Epoch: 0234 training time (minutes)= 0.1461 loss= 0.003724661\n",
      "Epoch: 0235 training time (minutes)= 0.1469 loss= 0.003713615\n",
      "Epoch: 0236 training time (minutes)= 0.1463 loss= 0.003717070\n",
      "Epoch: 0237 training time (minutes)= 0.1461 loss= 0.003700975\n",
      "Epoch: 0238 training time (minutes)= 0.1462 loss= 0.003705442\n",
      "Epoch: 0239 training time (minutes)= 0.1462 loss= 0.003705402\n",
      "Epoch: 0240 training time (minutes)= 0.1475 loss= 0.003708351\n",
      "INFO:tensorflow:./experiments/single_class_vae_test_summary/models.ckpt-240 is not in all_model_checkpoint_paths. Manually adding it.\n",
      "Epoch: 0241 training time (minutes)= 0.1466 loss= 0.003704907\n",
      "Epoch: 0242 training time (minutes)= 0.1467 loss= 0.003699790\n",
      "Epoch: 0243 training time (minutes)= 0.1466 loss= 0.003701372\n",
      "Epoch: 0244 training time (minutes)= 0.1466 loss= 0.003695587\n",
      "Epoch: 0245 training time (minutes)= 0.1467 loss= 0.003700059\n",
      "Epoch: 0246 training time (minutes)= 0.1461 loss= 0.003684892\n",
      "Epoch: 0247 training time (minutes)= 0.1481 loss= 0.003679504\n",
      "Epoch: 0248 training time (minutes)= 0.1477 loss= 0.003686592\n",
      "Epoch: 0249 training time (minutes)= 0.1460 loss= 0.003683635\n",
      "Epoch: 0250 training time (minutes)= 0.1461 loss= 0.003690291\n",
      "INFO:tensorflow:./experiments/single_class_vae_test_summary/models.ckpt-250 is not in all_model_checkpoint_paths. Manually adding it.\n",
      "Epoch: 0251 training time (minutes)= 0.1466 loss= 0.003681074\n",
      "Epoch: 0252 training time (minutes)= 0.1466 loss= 0.003672549\n",
      "Epoch: 0253 training time (minutes)= 0.1468 loss= 0.003662694\n",
      "Epoch: 0254 training time (minutes)= 0.1478 loss= 0.003667881\n",
      "Epoch: 0255 training time (minutes)= 0.1457 loss= 0.003665638\n",
      "Epoch: 0256 training time (minutes)= 0.1468 loss= 0.003670399\n",
      "Epoch: 0257 training time (minutes)= 0.1463 loss= 0.003669060\n",
      "Epoch: 0258 training time (minutes)= 0.1464 loss= 0.003645610\n",
      "Epoch: 0259 training time (minutes)= 0.1463 loss= 0.003655638\n",
      "Epoch: 0260 training time (minutes)= 0.1458 loss= 0.003670913\n",
      "INFO:tensorflow:./experiments/single_class_vae_test_summary/models.ckpt-260 is not in all_model_checkpoint_paths. Manually adding it.\n",
      "Epoch: 0261 training time (minutes)= 0.1466 loss= 0.003658244\n",
      "Epoch: 0262 training time (minutes)= 0.1460 loss= 0.003661439\n",
      "Epoch: 0263 training time (minutes)= 0.1460 loss= 0.003664350\n",
      "Epoch: 0264 training time (minutes)= 0.1466 loss= 0.003649177\n",
      "Epoch: 0265 training time (minutes)= 0.1477 loss= 0.003665061\n",
      "Epoch: 0266 training time (minutes)= 0.1463 loss= 0.003662240\n",
      "Epoch: 0267 training time (minutes)= 0.1462 loss= 0.003652568\n",
      "Epoch: 0268 training time (minutes)= 0.1462 loss= 0.003653409\n",
      "Epoch: 0269 training time (minutes)= 0.1459 loss= 0.003655611\n",
      "Epoch: 0270 training time (minutes)= 0.1468 loss= 0.003654243\n",
      "INFO:tensorflow:./experiments/single_class_vae_test_summary/models.ckpt-270 is not in all_model_checkpoint_paths. Manually adding it.\n",
      "Epoch: 0271 training time (minutes)= 0.1462 loss= 0.003657504\n",
      "Epoch: 0272 training time (minutes)= 0.1464 loss= 0.003649931\n",
      "Epoch: 0273 training time (minutes)= 0.1464 loss= 0.003646270\n",
      "Epoch: 0274 training time (minutes)= 0.1461 loss= 0.003637995\n",
      "Epoch: 0275 training time (minutes)= 0.1459 loss= 0.003652601\n",
      "Epoch: 0276 training time (minutes)= 0.1463 loss= 0.003653298\n",
      "Epoch: 0277 training time (minutes)= 0.1470 loss= 0.003651635\n",
      "Epoch: 0278 training time (minutes)= 0.1459 loss= 0.003647132\n",
      "Epoch: 0279 training time (minutes)= 0.1463 loss= 0.003638485\n",
      "Epoch: 0280 training time (minutes)= 0.1460 loss= 0.003639631\n",
      "INFO:tensorflow:./experiments/single_class_vae_test_summary/models.ckpt-280 is not in all_model_checkpoint_paths. Manually adding it.\n",
      "Epoch: 0281 training time (minutes)= 0.1471 loss= 0.003637360\n",
      "Epoch: 0282 training time (minutes)= 0.1462 loss= 0.003647467\n",
      "Epoch: 0283 training time (minutes)= 0.1459 loss= 0.003646484\n",
      "Epoch: 0284 training time (minutes)= 0.1465 loss= 0.003624521\n",
      "Epoch: 0285 training time (minutes)= 0.1457 loss= 0.003639481\n",
      "Epoch: 0286 training time (minutes)= 0.1465 loss= 0.003642142\n",
      "Epoch: 0287 training time (minutes)= 0.1468 loss= 0.003647394\n",
      "Epoch: 0288 training time (minutes)= 0.1462 loss= 0.003636476\n",
      "Epoch: 0289 training time (minutes)= 0.1463 loss= 0.003640932\n",
      "Epoch: 0290 training time (minutes)= 0.1466 loss= 0.003650288\n",
      "INFO:tensorflow:./experiments/single_class_vae_test_summary/models.ckpt-290 is not in all_model_checkpoint_paths. Manually adding it.\n",
      "Epoch: 0291 training time (minutes)= 0.1458 loss= 0.003640490\n",
      "Epoch: 0292 training time (minutes)= 0.1472 loss= 0.003635810\n",
      "Epoch: 0293 training time (minutes)= 0.1462 loss= 0.003628801\n",
      "Epoch: 0294 training time (minutes)= 0.1459 loss= 0.003631254\n",
      "Epoch: 0295 training time (minutes)= 0.1459 loss= 0.003637818\n",
      "Epoch: 0296 training time (minutes)= 0.1457 loss= 0.003621975\n",
      "Epoch: 0297 training time (minutes)= 0.1462 loss= 0.003640444\n",
      "Epoch: 0298 training time (minutes)= 0.1470 loss= 0.003630837\n",
      "Epoch: 0299 training time (minutes)= 0.1461 loss= 0.003638428\n",
      "Epoch: 0300 training time (minutes)= 0.1466 loss= 0.003619997\n",
      "INFO:tensorflow:./experiments/single_class_vae_test_summary/models.ckpt-300 is not in all_model_checkpoint_paths. Manually adding it.\n",
      "Epoch: 0301 training time (minutes)= 0.1459 loss= 0.003638291\n",
      "Epoch: 0302 training time (minutes)= 0.1463 loss= 0.003638818\n",
      "Epoch: 0303 training time (minutes)= 0.1465 loss= 0.003641810\n",
      "Epoch: 0304 training time (minutes)= 0.1467 loss= 0.003629992\n",
      "Epoch: 0305 training time (minutes)= 0.1464 loss= 0.003640060\n",
      "Epoch: 0306 training time (minutes)= 0.1474 loss= 0.003628513\n",
      "Epoch: 0307 training time (minutes)= 0.1461 loss= 0.003631918\n",
      "Epoch: 0308 training time (minutes)= 0.1467 loss= 0.003645520\n",
      "Epoch: 0309 training time (minutes)= 0.1461 loss= 0.003642449\n",
      "Epoch: 0310 training time (minutes)= 0.1461 loss= 0.003650425\n",
      "INFO:tensorflow:./experiments/single_class_vae_test_summary/models.ckpt-310 is not in all_model_checkpoint_paths. Manually adding it.\n",
      "Epoch: 0311 training time (minutes)= 0.1471 loss= 0.003636650\n",
      "Epoch: 0312 training time (minutes)= 0.1464 loss= 0.003647843\n",
      "Epoch: 0313 training time (minutes)= 0.1467 loss= 0.003639824\n",
      "Epoch: 0314 training time (minutes)= 0.1464 loss= 0.003640790\n",
      "Epoch: 0315 training time (minutes)= 0.1468 loss= 0.003621319\n",
      "Epoch: 0316 training time (minutes)= 0.1466 loss= 0.003632297\n",
      "Epoch: 0317 training time (minutes)= 0.1466 loss= 0.003632776\n",
      "Epoch: 0318 training time (minutes)= 0.1464 loss= 0.003631218\n",
      "Epoch: 0319 training time (minutes)= 0.1465 loss= 0.003637140\n",
      "Epoch: 0320 training time (minutes)= 0.1461 loss= 0.003640551\n",
      "INFO:tensorflow:./experiments/single_class_vae_test_summary/models.ckpt-320 is not in all_model_checkpoint_paths. Manually adding it.\n",
      "Epoch: 0321 training time (minutes)= 0.1462 loss= 0.003623578\n",
      "Epoch: 0322 training time (minutes)= 0.1459 loss= 0.003630728\n",
      "Epoch: 0323 training time (minutes)= 0.1466 loss= 0.003627818\n",
      "Epoch: 0324 training time (minutes)= 0.1458 loss= 0.003629053\n",
      "Epoch: 0325 training time (minutes)= 0.1461 loss= 0.003622341\n",
      "Epoch: 0326 training time (minutes)= 0.1471 loss= 0.003633448\n",
      "Epoch: 0327 training time (minutes)= 0.1475 loss= 0.003623989\n"
     ]
    },
    {
     "name": "stdout",
     "output_type": "stream",
     "text": [
      "Epoch: 0328 training time (minutes)= 0.1463 loss= 0.003640593\n",
      "Epoch: 0329 training time (minutes)= 0.1465 loss= 0.003633090\n",
      "Epoch: 0330 training time (minutes)= 0.1470 loss= 0.003619323\n",
      "INFO:tensorflow:./experiments/single_class_vae_test_summary/models.ckpt-330 is not in all_model_checkpoint_paths. Manually adding it.\n",
      "Epoch: 0331 training time (minutes)= 0.1459 loss= 0.003635666\n",
      "Epoch: 0332 training time (minutes)= 0.1463 loss= 0.003635448\n",
      "Epoch: 0333 training time (minutes)= 0.1463 loss= 0.003637200\n",
      "Epoch: 0334 training time (minutes)= 0.1459 loss= 0.003631136\n",
      "Epoch: 0335 training time (minutes)= 0.1468 loss= 0.003625046\n",
      "Epoch: 0336 training time (minutes)= 0.1463 loss= 0.003629799\n",
      "Epoch: 0337 training time (minutes)= 0.1463 loss= 0.003629029\n",
      "Epoch: 0338 training time (minutes)= 0.1465 loss= 0.003620645\n",
      "Epoch: 0339 training time (minutes)= 0.1460 loss= 0.003633916\n",
      "Epoch: 0340 training time (minutes)= 0.1468 loss= 0.003641979\n",
      "INFO:tensorflow:./experiments/single_class_vae_test_summary/models.ckpt-340 is not in all_model_checkpoint_paths. Manually adding it.\n",
      "Epoch: 0341 training time (minutes)= 0.1460 loss= 0.003611566\n",
      "Epoch: 0342 training time (minutes)= 0.1462 loss= 0.003638043\n",
      "Epoch: 0343 training time (minutes)= 0.1466 loss= 0.003638687\n",
      "Epoch: 0344 training time (minutes)= 0.1465 loss= 0.003625213\n",
      "Epoch: 0345 training time (minutes)= 0.1474 loss= 0.003625338\n",
      "Epoch: 0346 training time (minutes)= 0.1466 loss= 0.003625043\n",
      "Epoch: 0347 training time (minutes)= 0.1463 loss= 0.003629232\n",
      "Epoch: 0348 training time (minutes)= 0.1461 loss= 0.003627571\n",
      "Epoch: 0349 training time (minutes)= 0.1463 loss= 0.003616749\n",
      "Epoch: 0350 training time (minutes)= 0.1465 loss= 0.003626554\n",
      "INFO:tensorflow:./experiments/single_class_vae_test_summary/models.ckpt-350 is not in all_model_checkpoint_paths. Manually adding it.\n",
      "Epoch: 0351 training time (minutes)= 0.1458 loss= 0.003630591\n",
      "Epoch: 0352 training time (minutes)= 0.1465 loss= 0.003627518\n",
      "Epoch: 0353 training time (minutes)= 0.1479 loss= 0.003619295\n",
      "Epoch: 0354 training time (minutes)= 0.1469 loss= 0.003631161\n",
      "Epoch: 0355 training time (minutes)= 0.1466 loss= 0.003641257\n",
      "Epoch: 0356 training time (minutes)= 0.1460 loss= 0.003634270\n",
      "Epoch: 0357 training time (minutes)= 0.1468 loss= 0.003625647\n",
      "Epoch: 0358 training time (minutes)= 0.1462 loss= 0.003630967\n",
      "Epoch: 0359 training time (minutes)= 0.1459 loss= 0.003635708\n",
      "Epoch: 0360 training time (minutes)= 0.1469 loss= 0.003634574\n",
      "INFO:tensorflow:./experiments/single_class_vae_test_summary/models.ckpt-360 is not in all_model_checkpoint_paths. Manually adding it.\n",
      "Epoch: 0361 training time (minutes)= 0.1460 loss= 0.003632354\n",
      "Epoch: 0362 training time (minutes)= 0.1464 loss= 0.003638122\n",
      "Epoch: 0363 training time (minutes)= 0.1468 loss= 0.003638419\n",
      "Epoch: 0364 training time (minutes)= 0.1471 loss= 0.003612608\n",
      "Epoch: 0365 training time (minutes)= 0.1473 loss= 0.003631929\n",
      "Epoch: 0366 training time (minutes)= 0.1464 loss= 0.003634743\n",
      "Epoch: 0367 training time (minutes)= 0.1458 loss= 0.003635495\n",
      "Epoch: 0368 training time (minutes)= 0.1461 loss= 0.003631493\n",
      "Epoch: 0369 training time (minutes)= 0.1465 loss= 0.003623256\n",
      "Epoch: 0370 training time (minutes)= 0.1460 loss= 0.003625403\n",
      "INFO:tensorflow:./experiments/single_class_vae_test_summary/models.ckpt-370 is not in all_model_checkpoint_paths. Manually adding it.\n",
      "Epoch: 0371 training time (minutes)= 0.1459 loss= 0.003632969\n",
      "Epoch: 0372 training time (minutes)= 0.1471 loss= 0.003608849\n",
      "Epoch: 0373 training time (minutes)= 0.1462 loss= 0.003622757\n",
      "Epoch: 0374 training time (minutes)= 0.1468 loss= 0.003628289\n",
      "Epoch: 0375 training time (minutes)= 0.1462 loss= 0.003609773\n",
      "Epoch: 0376 training time (minutes)= 0.1465 loss= 0.003622339\n",
      "Epoch: 0377 training time (minutes)= 0.1464 loss= 0.003621588\n",
      "Epoch: 0378 training time (minutes)= 0.1463 loss= 0.003638992\n",
      "Epoch: 0379 training time (minutes)= 0.1462 loss= 0.003639414\n",
      "Epoch: 0380 training time (minutes)= 0.1467 loss= 0.003631588\n",
      "INFO:tensorflow:./experiments/single_class_vae_test_summary/models.ckpt-380 is not in all_model_checkpoint_paths. Manually adding it.\n",
      "Epoch: 0381 training time (minutes)= 0.1464 loss= 0.003640161\n",
      "Epoch: 0382 training time (minutes)= 0.1464 loss= 0.003628721\n",
      "Epoch: 0383 training time (minutes)= 0.1466 loss= 0.003624385\n",
      "Epoch: 0384 training time (minutes)= 0.1474 loss= 0.003605239\n",
      "Epoch: 0385 training time (minutes)= 0.1463 loss= 0.003630615\n",
      "Epoch: 0386 training time (minutes)= 0.1462 loss= 0.003613803\n",
      "Epoch: 0387 training time (minutes)= 0.1456 loss= 0.003625126\n",
      "Epoch: 0388 training time (minutes)= 0.1460 loss= 0.003636231\n",
      "Epoch: 0389 training time (minutes)= 0.1471 loss= 0.003629152\n",
      "Epoch: 0390 training time (minutes)= 0.1464 loss= 0.003619466\n",
      "INFO:tensorflow:./experiments/single_class_vae_test_summary/models.ckpt-390 is not in all_model_checkpoint_paths. Manually adding it.\n",
      "Epoch: 0391 training time (minutes)= 0.1473 loss= 0.003617649\n",
      "Epoch: 0392 training time (minutes)= 0.1471 loss= 0.003609320\n",
      "Epoch: 0393 training time (minutes)= 0.1470 loss= 0.003636180\n",
      "Epoch: 0394 training time (minutes)= 0.1476 loss= 0.003629728\n",
      "Epoch: 0395 training time (minutes)= 0.1473 loss= 0.003616410\n",
      "Epoch: 0396 training time (minutes)= 0.1461 loss= 0.003628013\n",
      "Epoch: 0397 training time (minutes)= 0.1464 loss= 0.003618689\n",
      "Epoch: 0398 training time (minutes)= 0.1470 loss= 0.003623035\n",
      "Epoch: 0399 training time (minutes)= 0.1462 loss= 0.003638516\n",
      "Epoch: 0400 training time (minutes)= 0.1464 loss= 0.003608643\n",
      "INFO:tensorflow:./experiments/single_class_vae_test_summary/models.ckpt-400 is not in all_model_checkpoint_paths. Manually adding it.\n",
      "Epoch: 0401 training time (minutes)= 0.1461 loss= 0.003628193\n",
      "Epoch: 0402 training time (minutes)= 0.1471 loss= 0.003620675\n",
      "Epoch: 0403 training time (minutes)= 0.1468 loss= 0.003633531\n",
      "Epoch: 0404 training time (minutes)= 0.1461 loss= 0.003619340\n",
      "Epoch: 0405 training time (minutes)= 0.1462 loss= 0.003620887\n",
      "Epoch: 0406 training time (minutes)= 0.1466 loss= 0.003627280\n",
      "Epoch: 0407 training time (minutes)= 0.1458 loss= 0.003628806\n",
      "Epoch: 0408 training time (minutes)= 0.1467 loss= 0.003644652\n",
      "Epoch: 0409 training time (minutes)= 0.1461 loss= 0.003628358\n",
      "Epoch: 0410 training time (minutes)= 0.1465 loss= 0.003611015\n",
      "INFO:tensorflow:./experiments/single_class_vae_test_summary/models.ckpt-410 is not in all_model_checkpoint_paths. Manually adding it.\n",
      "Epoch: 0411 training time (minutes)= 0.1463 loss= 0.003618244\n",
      "Epoch: 0412 training time (minutes)= 0.1462 loss= 0.003631152\n",
      "Epoch: 0413 training time (minutes)= 0.1463 loss= 0.003625481\n",
      "Epoch: 0414 training time (minutes)= 0.1459 loss= 0.003623598\n",
      "Epoch: 0415 training time (minutes)= 0.1463 loss= 0.003635402\n",
      "Epoch: 0416 training time (minutes)= 0.1467 loss= 0.003628526\n",
      "Epoch: 0417 training time (minutes)= 0.1465 loss= 0.003626728\n",
      "Epoch: 0418 training time (minutes)= 0.1456 loss= 0.003624846\n",
      "Epoch: 0419 training time (minutes)= 0.1457 loss= 0.003620090\n",
      "Epoch: 0420 training time (minutes)= 0.1463 loss= 0.003631996\n",
      "INFO:tensorflow:./experiments/single_class_vae_test_summary/models.ckpt-420 is not in all_model_checkpoint_paths. Manually adding it.\n",
      "Epoch: 0421 training time (minutes)= 0.1460 loss= 0.003626026\n",
      "Epoch: 0422 training time (minutes)= 0.1459 loss= 0.003631358\n",
      "Epoch: 0423 training time (minutes)= 0.1460 loss= 0.003616382\n",
      "Epoch: 0424 training time (minutes)= 0.1470 loss= 0.003616144\n",
      "Epoch: 0425 training time (minutes)= 0.1472 loss= 0.003607832\n",
      "Epoch: 0426 training time (minutes)= 0.1465 loss= 0.003634682\n",
      "Epoch: 0427 training time (minutes)= 0.1461 loss= 0.003634876\n",
      "Epoch: 0428 training time (minutes)= 0.1462 loss= 0.003620696\n",
      "Epoch: 0429 training time (minutes)= 0.1462 loss= 0.003625249\n",
      "Epoch: 0430 training time (minutes)= 0.1465 loss= 0.003630244\n",
      "INFO:tensorflow:./experiments/single_class_vae_test_summary/models.ckpt-430 is not in all_model_checkpoint_paths. Manually adding it.\n",
      "Epoch: 0431 training time (minutes)= 0.1457 loss= 0.003626993\n",
      "Epoch: 0432 training time (minutes)= 0.1461 loss= 0.003635058\n",
      "Epoch: 0433 training time (minutes)= 0.1459 loss= 0.003625399\n",
      "Epoch: 0434 training time (minutes)= 0.1469 loss= 0.003632111\n",
      "Epoch: 0435 training time (minutes)= 0.1465 loss= 0.003628439\n",
      "Epoch: 0436 training time (minutes)= 0.1472 loss= 0.003629252\n"
     ]
    },
    {
     "name": "stdout",
     "output_type": "stream",
     "text": [
      "Epoch: 0437 training time (minutes)= 0.1472 loss= 0.003625530\n",
      "Epoch: 0438 training time (minutes)= 0.1462 loss= 0.003620772\n",
      "Epoch: 0439 training time (minutes)= 0.1474 loss= 0.003626516\n",
      "Epoch: 0440 training time (minutes)= 0.1464 loss= 0.003637195\n",
      "INFO:tensorflow:./experiments/single_class_vae_test_summary/models.ckpt-440 is not in all_model_checkpoint_paths. Manually adding it.\n",
      "Epoch: 0441 training time (minutes)= 0.1460 loss= 0.003620645\n",
      "Epoch: 0442 training time (minutes)= 0.1460 loss= 0.003629882\n",
      "Epoch: 0443 training time (minutes)= 0.1461 loss= 0.003630272\n",
      "Epoch: 0444 training time (minutes)= 0.1473 loss= 0.003630423\n",
      "Epoch: 0445 training time (minutes)= 0.1465 loss= 0.003625551\n",
      "Epoch: 0446 training time (minutes)= 0.1462 loss= 0.003613739\n",
      "Epoch: 0447 training time (minutes)= 0.1462 loss= 0.003629072\n",
      "Epoch: 0448 training time (minutes)= 0.1465 loss= 0.003638783\n",
      "Epoch: 0449 training time (minutes)= 0.1467 loss= 0.003639270\n",
      "Epoch: 0450 training time (minutes)= 0.1470 loss= 0.003619494\n",
      "INFO:tensorflow:./experiments/single_class_vae_test_summary/models.ckpt-450 is not in all_model_checkpoint_paths. Manually adding it.\n",
      "Epoch: 0451 training time (minutes)= 0.1461 loss= 0.003630472\n",
      "Epoch: 0452 training time (minutes)= 0.1460 loss= 0.003626220\n",
      "Epoch: 0453 training time (minutes)= 0.1467 loss= 0.003629853\n",
      "Epoch: 0454 training time (minutes)= 0.1461 loss= 0.003645380\n",
      "Epoch: 0455 training time (minutes)= 0.1473 loss= 0.003624235\n",
      "Epoch: 0456 training time (minutes)= 0.1458 loss= 0.003622099\n",
      "Epoch: 0457 training time (minutes)= 0.1477 loss= 0.003621669\n",
      "Epoch: 0458 training time (minutes)= 0.1461 loss= 0.003624879\n",
      "Epoch: 0459 training time (minutes)= 0.1469 loss= 0.003623893\n",
      "Epoch: 0460 training time (minutes)= 0.1462 loss= 0.003620655\n",
      "INFO:tensorflow:./experiments/single_class_vae_test_summary/models.ckpt-460 is not in all_model_checkpoint_paths. Manually adding it.\n",
      "Epoch: 0461 training time (minutes)= 0.1462 loss= 0.003634166\n",
      "Epoch: 0462 training time (minutes)= 0.1462 loss= 0.003632716\n",
      "Epoch: 0463 training time (minutes)= 0.1465 loss= 0.003630775\n",
      "Epoch: 0464 training time (minutes)= 0.1463 loss= 0.003632854\n",
      "Epoch: 0465 training time (minutes)= 0.1460 loss= 0.003629725\n",
      "Epoch: 0466 training time (minutes)= 0.1466 loss= 0.003626185\n",
      "Epoch: 0467 training time (minutes)= 0.1473 loss= 0.003611984\n",
      "Epoch: 0468 training time (minutes)= 0.1460 loss= 0.003625143\n",
      "Epoch: 0469 training time (minutes)= 0.1466 loss= 0.003630864\n",
      "Epoch: 0470 training time (minutes)= 0.1458 loss= 0.003620630\n",
      "INFO:tensorflow:./experiments/single_class_vae_test_summary/models.ckpt-470 is not in all_model_checkpoint_paths. Manually adding it.\n",
      "Epoch: 0471 training time (minutes)= 0.1471 loss= 0.003614969\n",
      "Epoch: 0472 training time (minutes)= 0.1463 loss= 0.003621258\n",
      "Epoch: 0473 training time (minutes)= 0.1472 loss= 0.003627453\n",
      "Epoch: 0474 training time (minutes)= 0.1462 loss= 0.003625986\n",
      "Epoch: 0475 training time (minutes)= 0.1460 loss= 0.003618288\n",
      "Epoch: 0476 training time (minutes)= 0.1470 loss= 0.003634828\n",
      "Epoch: 0477 training time (minutes)= 0.1460 loss= 0.003617136\n",
      "Epoch: 0478 training time (minutes)= 0.1472 loss= 0.003638499\n",
      "Epoch: 0479 training time (minutes)= 0.1469 loss= 0.003615318\n",
      "Epoch: 0480 training time (minutes)= 0.1463 loss= 0.003634426\n",
      "INFO:tensorflow:./experiments/single_class_vae_test_summary/models.ckpt-480 is not in all_model_checkpoint_paths. Manually adding it.\n",
      "Epoch: 0481 training time (minutes)= 0.1460 loss= 0.003629110\n",
      "Epoch: 0482 training time (minutes)= 0.1462 loss= 0.003625749\n",
      "Epoch: 0483 training time (minutes)= 0.1460 loss= 0.003625124\n",
      "Epoch: 0484 training time (minutes)= 0.1473 loss= 0.003627329\n",
      "Epoch: 0485 training time (minutes)= 0.1469 loss= 0.003619269\n",
      "Epoch: 0486 training time (minutes)= 0.1464 loss= 0.003627426\n",
      "Epoch: 0487 training time (minutes)= 0.1462 loss= 0.003617908\n",
      "Epoch: 0488 training time (minutes)= 0.1465 loss= 0.003635421\n",
      "Epoch: 0489 training time (minutes)= 0.1465 loss= 0.003633216\n",
      "Epoch: 0490 training time (minutes)= 0.1463 loss= 0.003621336\n",
      "INFO:tensorflow:./experiments/single_class_vae_test_summary/models.ckpt-490 is not in all_model_checkpoint_paths. Manually adding it.\n",
      "Epoch: 0491 training time (minutes)= 0.1457 loss= 0.003639923\n",
      "Epoch: 0492 training time (minutes)= 0.1473 loss= 0.003629468\n",
      "Epoch: 0493 training time (minutes)= 0.1462 loss= 0.003629496\n",
      "Epoch: 0494 training time (minutes)= 0.1459 loss= 0.003625159\n",
      "Epoch: 0495 training time (minutes)= 0.1457 loss= 0.003615960\n",
      "Epoch: 0496 training time (minutes)= 0.1464 loss= 0.003628085\n",
      "Epoch: 0497 training time (minutes)= 0.1470 loss= 0.003620029\n",
      "Epoch: 0498 training time (minutes)= 0.1479 loss= 0.003625943\n",
      "Epoch: 0499 training time (minutes)= 0.1459 loss= 0.003620781\n",
      "Epoch: 0500 training time (minutes)= 0.1458 loss= 0.003628491\n",
      "INFO:tensorflow:./experiments/single_class_vae_test_summary/models.ckpt-500 is not in all_model_checkpoint_paths. Manually adding it.\n"
     ]
    }
   ],
   "source": [
    "buf_size = 1 # Make 'training_stats' file to flush each output line regarding training.\n",
    "fout = open(osp.join(conf.train_dir, 'train_stats.txt'), 'a', buf_size)\n",
    "train_stats = vae.train(pc_dataset, conf, log_file=fout)\n",
    "fout.close()"
   ]
  },
  {
   "cell_type": "code",
   "execution_count": 13,
   "metadata": {
    "ExecuteTime": {
     "end_time": "2019-06-15T04:56:48.961876Z",
     "start_time": "2019-06-15T04:56:48.701773Z"
    }
   },
   "outputs": [],
   "source": [
    "feed_pc, feed_model_names, _ = pc_dataset.next_batch(10)\n",
    "reconstructions = vae.reconstruct(feed_pc)[0]"
   ]
  },
  {
   "cell_type": "code",
   "execution_count": 14,
   "metadata": {
    "ExecuteTime": {
     "end_time": "2019-06-15T04:56:49.452526Z",
     "start_time": "2019-06-15T04:56:48.964180Z"
    }
   },
   "outputs": [
    {
     "data": {
      "image/png": "[encoded data removed]",
      "text/plain": [
       "<Figure size 360x360 with 1 Axes>"
      ]
     },
     "metadata": {
      "needs_background": "light"
     },
     "output_type": "display_data"
    },
    {
     "data": {
      "image/png": "[encoded data removed]",
      "text/plain": [
       "<Figure size 360x360 with 1 Axes>"
      ]
     },
     "metadata": {
      "needs_background": "light"
     },
     "output_type": "display_data"
    }
   ],
   "source": [
    "i = 3\n",
    "plot_3d_point_cloud(reconstructions[i][:, 0], \n",
    "                    reconstructions[i][:, 1], \n",
    "                    reconstructions[i][:, 2], in_u_sphere=True);\n",
    "\n",
    "plot_3d_point_cloud(feed_pc[i][:, 0], \n",
    "                    feed_pc[i][:, 1], \n",
    "                    feed_pc[i][:, 2], in_u_sphere=True);"
   ]
  },
  {
   "cell_type": "code",
   "execution_count": null,
   "metadata": {},
   "outputs": [],
   "source": []
  }
 ],
 "metadata": {
  "kernelspec": {
   "display_name": "Python3.6 tf",
   "language": "python",
   "name": "tf_py3"
  },
  "language_info": {
   "codemirror_mode": {
    "name": "ipython",
    "version": 3
   },
   "file_extension": ".py",
   "mimetype": "text/x-python",
   "name": "python",
   "nbconvert_exporter": "python",
   "pygments_lexer": "ipython3",
   "version": "3.6.8"
  }
 },
 "nbformat": 4,
 "nbformat_minor": 2
}
